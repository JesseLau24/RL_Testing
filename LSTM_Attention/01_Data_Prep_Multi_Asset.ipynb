{
 "cells": [
  {
   "cell_type": "code",
   "execution_count": 4,
   "metadata": {},
   "outputs": [
    {
     "name": "stdout",
     "output_type": "stream",
     "text": [
      "正在拉取数据: NVDA\n"
     ]
    },
    {
     "name": "stderr",
     "output_type": "stream",
     "text": [
      "[*********************100%***********************]  1 of 1 completed\n",
      "\n",
      "1 Failed download:\n",
      "['NVDA']: YFRateLimitError('Too Many Requests. Rate limited. Try after a while.')\n"
     ]
    },
    {
     "name": "stdout",
     "output_type": "stream",
     "text": [
      "NVDA 数据已保存\n",
      "正在拉取数据: AAPL\n"
     ]
    },
    {
     "name": "stderr",
     "output_type": "stream",
     "text": [
      "[*********************100%***********************]  1 of 1 completed\n",
      "\n",
      "1 Failed download:\n",
      "['AAPL']: YFRateLimitError('Too Many Requests. Rate limited. Try after a while.')\n"
     ]
    },
    {
     "name": "stdout",
     "output_type": "stream",
     "text": [
      "AAPL 数据已保存\n",
      "正在拉取数据: MSFT\n"
     ]
    },
    {
     "name": "stderr",
     "output_type": "stream",
     "text": [
      "[*********************100%***********************]  1 of 1 completed\n",
      "\n",
      "1 Failed download:\n",
      "['MSFT']: YFRateLimitError('Too Many Requests. Rate limited. Try after a while.')\n"
     ]
    },
    {
     "name": "stdout",
     "output_type": "stream",
     "text": [
      "MSFT 数据已保存\n",
      "正在拉取数据: AMZN\n"
     ]
    },
    {
     "name": "stderr",
     "output_type": "stream",
     "text": [
      "[*********************100%***********************]  1 of 1 completed\n",
      "\n",
      "1 Failed download:\n",
      "['AMZN']: YFRateLimitError('Too Many Requests. Rate limited. Try after a while.')\n"
     ]
    },
    {
     "name": "stdout",
     "output_type": "stream",
     "text": [
      "AMZN 数据已保存\n",
      "正在拉取数据: GOOG\n"
     ]
    },
    {
     "name": "stderr",
     "output_type": "stream",
     "text": [
      "[*********************100%***********************]  1 of 1 completed\n",
      "\n",
      "1 Failed download:\n",
      "['GOOG']: YFRateLimitError('Too Many Requests. Rate limited. Try after a while.')\n"
     ]
    },
    {
     "name": "stdout",
     "output_type": "stream",
     "text": [
      "GOOG 数据已保存\n",
      "正在拉取数据: META\n"
     ]
    },
    {
     "name": "stderr",
     "output_type": "stream",
     "text": [
      "[*********************100%***********************]  1 of 1 completed\n",
      "\n",
      "1 Failed download:\n",
      "['META']: YFRateLimitError('Too Many Requests. Rate limited. Try after a while.')\n"
     ]
    },
    {
     "name": "stdout",
     "output_type": "stream",
     "text": [
      "META 数据已保存\n",
      "正在拉取数据: JPM\n"
     ]
    },
    {
     "name": "stderr",
     "output_type": "stream",
     "text": [
      "[*********************100%***********************]  1 of 1 completed\n",
      "\n",
      "1 Failed download:\n",
      "['JPM']: YFRateLimitError('Too Many Requests. Rate limited. Try after a while.')\n"
     ]
    },
    {
     "name": "stdout",
     "output_type": "stream",
     "text": [
      "JPM 数据已保存\n",
      "正在拉取数据: GS\n"
     ]
    },
    {
     "name": "stderr",
     "output_type": "stream",
     "text": [
      "[*********************100%***********************]  1 of 1 completed\n",
      "\n",
      "1 Failed download:\n",
      "['GS']: YFRateLimitError('Too Many Requests. Rate limited. Try after a while.')\n"
     ]
    },
    {
     "name": "stdout",
     "output_type": "stream",
     "text": [
      "GS 数据已保存\n",
      "正在拉取数据: BAC\n"
     ]
    },
    {
     "name": "stderr",
     "output_type": "stream",
     "text": [
      "[*********************100%***********************]  1 of 1 completed\n",
      "\n",
      "1 Failed download:\n",
      "['BAC']: YFRateLimitError('Too Many Requests. Rate limited. Try after a while.')\n"
     ]
    },
    {
     "name": "stdout",
     "output_type": "stream",
     "text": [
      "BAC 数据已保存\n",
      "正在拉取数据: WFC\n"
     ]
    },
    {
     "name": "stderr",
     "output_type": "stream",
     "text": [
      "[*********************100%***********************]  1 of 1 completed\n",
      "\n",
      "1 Failed download:\n",
      "['WFC']: YFRateLimitError('Too Many Requests. Rate limited. Try after a while.')\n"
     ]
    },
    {
     "name": "stdout",
     "output_type": "stream",
     "text": [
      "WFC 数据已保存\n",
      "正在拉取数据: XOM\n"
     ]
    },
    {
     "name": "stderr",
     "output_type": "stream",
     "text": [
      "[*********************100%***********************]  1 of 1 completed\n",
      "\n",
      "1 Failed download:\n",
      "['XOM']: YFRateLimitError('Too Many Requests. Rate limited. Try after a while.')\n"
     ]
    },
    {
     "name": "stdout",
     "output_type": "stream",
     "text": [
      "XOM 数据已保存\n",
      "正在拉取数据: CVX\n"
     ]
    },
    {
     "name": "stderr",
     "output_type": "stream",
     "text": [
      "[*********************100%***********************]  1 of 1 completed\n",
      "\n",
      "1 Failed download:\n",
      "['CVX']: YFRateLimitError('Too Many Requests. Rate limited. Try after a while.')\n"
     ]
    },
    {
     "name": "stdout",
     "output_type": "stream",
     "text": [
      "CVX 数据已保存\n",
      "正在拉取数据: BP\n"
     ]
    },
    {
     "name": "stderr",
     "output_type": "stream",
     "text": [
      "[*********************100%***********************]  1 of 1 completed\n",
      "\n",
      "1 Failed download:\n",
      "['BP']: YFRateLimitError('Too Many Requests. Rate limited. Try after a while.')\n"
     ]
    },
    {
     "name": "stdout",
     "output_type": "stream",
     "text": [
      "BP 数据已保存\n",
      "正在拉取数据: TSLA\n"
     ]
    },
    {
     "name": "stderr",
     "output_type": "stream",
     "text": [
      "[*********************100%***********************]  1 of 1 completed\n",
      "\n",
      "1 Failed download:\n",
      "['TSLA']: YFRateLimitError('Too Many Requests. Rate limited. Try after a while.')\n"
     ]
    },
    {
     "name": "stdout",
     "output_type": "stream",
     "text": [
      "TSLA 数据已保存\n",
      "正在拉取数据: KO\n"
     ]
    },
    {
     "name": "stderr",
     "output_type": "stream",
     "text": [
      "[*********************100%***********************]  1 of 1 completed\n",
      "\n",
      "1 Failed download:\n",
      "['KO']: YFRateLimitError('Too Many Requests. Rate limited. Try after a while.')\n"
     ]
    },
    {
     "name": "stdout",
     "output_type": "stream",
     "text": [
      "KO 数据已保存\n",
      "正在拉取数据: MCD\n"
     ]
    },
    {
     "name": "stderr",
     "output_type": "stream",
     "text": [
      "[*********************100%***********************]  1 of 1 completed\n",
      "\n",
      "1 Failed download:\n",
      "['MCD']: YFRateLimitError('Too Many Requests. Rate limited. Try after a while.')\n"
     ]
    },
    {
     "name": "stdout",
     "output_type": "stream",
     "text": [
      "MCD 数据已保存\n",
      "正在拉取数据: PG\n"
     ]
    },
    {
     "name": "stderr",
     "output_type": "stream",
     "text": [
      "[*********************100%***********************]  1 of 1 completed\n",
      "\n",
      "1 Failed download:\n",
      "['PG']: YFRateLimitError('Too Many Requests. Rate limited. Try after a while.')\n"
     ]
    },
    {
     "name": "stdout",
     "output_type": "stream",
     "text": [
      "PG 数据已保存\n",
      "正在拉取数据: PEP\n"
     ]
    },
    {
     "name": "stderr",
     "output_type": "stream",
     "text": [
      "[*********************100%***********************]  1 of 1 completed\n",
      "\n",
      "1 Failed download:\n",
      "['PEP']: YFRateLimitError('Too Many Requests. Rate limited. Try after a while.')\n"
     ]
    },
    {
     "name": "stdout",
     "output_type": "stream",
     "text": [
      "PEP 数据已保存\n",
      "正在拉取数据: JNJ\n"
     ]
    },
    {
     "name": "stderr",
     "output_type": "stream",
     "text": [
      "[*********************100%***********************]  1 of 1 completed\n",
      "\n",
      "1 Failed download:\n",
      "['JNJ']: ReadTimeout(ReadTimeoutError(\"HTTPSConnectionPool(host='www.yahoo.com', port=443): Read timed out. (read timeout=30)\"))\n"
     ]
    },
    {
     "name": "stdout",
     "output_type": "stream",
     "text": [
      "JNJ 数据已保存\n",
      "正在拉取数据: PFE\n"
     ]
    },
    {
     "name": "stderr",
     "output_type": "stream",
     "text": [
      "[*********************100%***********************]  1 of 1 completed\n",
      "\n",
      "1 Failed download:\n",
      "['PFE']: YFRateLimitError('Too Many Requests. Rate limited. Try after a while.')\n"
     ]
    },
    {
     "name": "stdout",
     "output_type": "stream",
     "text": [
      "PFE 数据已保存\n",
      "正在拉取数据: UNH\n"
     ]
    },
    {
     "name": "stderr",
     "output_type": "stream",
     "text": [
      "[*********************100%***********************]  1 of 1 completed\n",
      "\n",
      "1 Failed download:\n",
      "['UNH']: YFRateLimitError('Too Many Requests. Rate limited. Try after a while.')\n"
     ]
    },
    {
     "name": "stdout",
     "output_type": "stream",
     "text": [
      "UNH 数据已保存\n",
      "正在拉取数据: BA\n"
     ]
    },
    {
     "name": "stderr",
     "output_type": "stream",
     "text": [
      "[*********************100%***********************]  1 of 1 completed\n",
      "\n",
      "1 Failed download:\n",
      "['BA']: YFRateLimitError('Too Many Requests. Rate limited. Try after a while.')\n"
     ]
    },
    {
     "name": "stdout",
     "output_type": "stream",
     "text": [
      "BA 数据已保存\n",
      "正在拉取数据: CAT\n"
     ]
    },
    {
     "name": "stderr",
     "output_type": "stream",
     "text": [
      "[*********************100%***********************]  1 of 1 completed\n",
      "\n",
      "1 Failed download:\n",
      "['CAT']: YFRateLimitError('Too Many Requests. Rate limited. Try after a while.')\n"
     ]
    },
    {
     "name": "stdout",
     "output_type": "stream",
     "text": [
      "CAT 数据已保存\n",
      "正在拉取数据: GE\n"
     ]
    },
    {
     "name": "stderr",
     "output_type": "stream",
     "text": [
      "[*********************100%***********************]  1 of 1 completed\n",
      "\n",
      "1 Failed download:\n",
      "['GE']: YFRateLimitError('Too Many Requests. Rate limited. Try after a while.')\n"
     ]
    },
    {
     "name": "stdout",
     "output_type": "stream",
     "text": [
      "GE 数据已保存\n",
      "正在拉取数据: NEE\n"
     ]
    },
    {
     "name": "stderr",
     "output_type": "stream",
     "text": [
      "[*********************100%***********************]  1 of 1 completed\n",
      "\n",
      "1 Failed download:\n",
      "['NEE']: YFRateLimitError('Too Many Requests. Rate limited. Try after a while.')\n"
     ]
    },
    {
     "name": "stdout",
     "output_type": "stream",
     "text": [
      "NEE 数据已保存\n",
      "正在拉取数据: DUK\n"
     ]
    },
    {
     "name": "stderr",
     "output_type": "stream",
     "text": [
      "[*********************100%***********************]  1 of 1 completed\n",
      "\n",
      "1 Failed download:\n",
      "['DUK']: YFRateLimitError('Too Many Requests. Rate limited. Try after a while.')\n"
     ]
    },
    {
     "name": "stdout",
     "output_type": "stream",
     "text": [
      "DUK 数据已保存\n",
      "正在拉取数据: T\n"
     ]
    },
    {
     "name": "stderr",
     "output_type": "stream",
     "text": [
      "[*********************100%***********************]  1 of 1 completed\n",
      "\n",
      "1 Failed download:\n",
      "['T']: YFRateLimitError('%ticker%oo Many Requests. Rate limited. %ticker%ry after a while.')\n"
     ]
    },
    {
     "name": "stdout",
     "output_type": "stream",
     "text": [
      "T 数据已保存\n",
      "正在拉取数据: VZ\n"
     ]
    },
    {
     "name": "stderr",
     "output_type": "stream",
     "text": [
      "[*********************100%***********************]  1 of 1 completed\n",
      "\n",
      "1 Failed download:\n",
      "['VZ']: YFRateLimitError('Too Many Requests. Rate limited. Try after a while.')\n"
     ]
    },
    {
     "name": "stdout",
     "output_type": "stream",
     "text": [
      "VZ 数据已保存\n",
      "正在拉取数据: HD\n"
     ]
    },
    {
     "name": "stderr",
     "output_type": "stream",
     "text": [
      "[*********************100%***********************]  1 of 1 completed\n",
      "\n",
      "1 Failed download:\n",
      "['HD']: YFRateLimitError('Too Many Requests. Rate limited. Try after a while.')\n"
     ]
    },
    {
     "name": "stdout",
     "output_type": "stream",
     "text": [
      "HD 数据已保存\n",
      "正在拉取数据: WMT\n"
     ]
    },
    {
     "name": "stderr",
     "output_type": "stream",
     "text": [
      "[*********************100%***********************]  1 of 1 completed\n",
      "\n",
      "1 Failed download:\n",
      "['WMT']: YFRateLimitError('Too Many Requests. Rate limited. Try after a while.')\n"
     ]
    },
    {
     "name": "stdout",
     "output_type": "stream",
     "text": [
      "WMT 数据已保存\n",
      "正在拉取数据: LIN\n"
     ]
    },
    {
     "name": "stderr",
     "output_type": "stream",
     "text": [
      "[*********************100%***********************]  1 of 1 completed\n",
      "\n",
      "1 Failed download:\n",
      "['LIN']: YFRateLimitError('Too Many Requests. Rate limited. Try after a while.')\n"
     ]
    },
    {
     "name": "stdout",
     "output_type": "stream",
     "text": [
      "LIN 数据已保存\n",
      "正在拉取数据: BHP\n"
     ]
    },
    {
     "name": "stderr",
     "output_type": "stream",
     "text": [
      "[*********************100%***********************]  1 of 1 completed\n",
      "\n",
      "1 Failed download:\n",
      "['BHP']: YFRateLimitError('Too Many Requests. Rate limited. Try after a while.')\n"
     ]
    },
    {
     "name": "stdout",
     "output_type": "stream",
     "text": [
      "BHP 数据已保存\n",
      "正在拉取数据: QQQ\n"
     ]
    },
    {
     "name": "stderr",
     "output_type": "stream",
     "text": [
      "[*********************100%***********************]  1 of 1 completed\n",
      "\n",
      "1 Failed download:\n",
      "['QQQ']: YFRateLimitError('Too Many Requests. Rate limited. Try after a while.')\n"
     ]
    },
    {
     "name": "stdout",
     "output_type": "stream",
     "text": [
      "QQQ 数据已保存\n",
      "正在拉取数据: SPY\n"
     ]
    },
    {
     "name": "stderr",
     "output_type": "stream",
     "text": [
      "[*********************100%***********************]  1 of 1 completed\n",
      "\n",
      "1 Failed download:\n",
      "['SPY']: YFRateLimitError('Too Many Requests. Rate limited. Try after a while.')\n"
     ]
    },
    {
     "name": "stdout",
     "output_type": "stream",
     "text": [
      "SPY 数据已保存\n",
      "所有股票数据已成功保存。\n"
     ]
    }
   ],
   "source": [
    "import yfinance as yf\n",
    "import os\n",
    "\n",
    "# 设定存储路径\n",
    "directory = \"32_Pool\"\n",
    "if not os.path.exists(directory):\n",
    "    os.makedirs(directory)\n",
    "\n",
    "# 32只股票+ETF的ticker列表\n",
    "tickers = [\"NVDA\", \"AAPL\", \"MSFT\", \"AMZN\", \"GOOG\", \"META\",\n",
    "           \"JPM\", \"GS\", \"BAC\", \"WFC\",\n",
    "           \"XOM\", \"CVX\", \"BP\",\n",
    "           \"TSLA\", \"KO\", \"MCD\", \"PG\", \"PEP\",\n",
    "           \"JNJ\", \"PFE\", \"UNH\",\n",
    "           \"BA\", \"CAT\", \"GE\",\n",
    "           \"NEE\", \"DUK\",\n",
    "           \"T\", \"VZ\",\n",
    "           \"HD\", \"WMT\",\n",
    "           \"LIN\", \"BHP\",\n",
    "           \"QQQ\", \"SPY\"]\n",
    "\n",
    "# 拉取股票数据并保存为CSV\n",
    "for ticker in tickers:\n",
    "    print(f\"正在拉取数据: {ticker}\")\n",
    "    stock_data = yf.download(ticker, start=\"2010-01-01\", end=\"2020-12-31\")\n",
    "    \n",
    "    # 只保留需要的列（Open, High, Low, Close, Volume）\n",
    "    stock_data = stock_data[['Open', 'High', 'Low', 'Close', 'Volume']]\n",
    "    \n",
    "    # 将数据保存为CSV\n",
    "    stock_data.to_csv(f\"{directory}/{ticker}_data.csv\")\n",
    "    print(f\"{ticker} 数据已保存\")\n",
    "\n",
    "print(\"所有股票数据已成功保存。\")\n"
   ]
  },
  {
   "cell_type": "code",
   "execution_count": 2,
   "metadata": {},
   "outputs": [
    {
     "name": "stdout",
     "output_type": "stream",
     "text": [
      "处理完毕: BP_data.csv\n",
      "处理完毕: MSFT_data.csv\n",
      "处理完毕: CVX_data.csv\n",
      "处理完毕: PEP_data.csv\n",
      "处理完毕: VZ_data.csv\n",
      "处理完毕: MCD_data.csv\n",
      "处理完毕: HD_data.csv\n",
      "处理完毕: XOM_data.csv\n",
      "处理完毕: BA_data.csv\n",
      "处理完毕: TSLA_data.csv\n",
      "处理完毕: QQQ_data.csv\n",
      "处理完毕: NEE_data.csv\n",
      "处理完毕: DUK_data.csv\n",
      "处理完毕: META_data.csv\n",
      "处理完毕: AMZN_data.csv\n",
      "处理完毕: GOOG_data.csv\n",
      "处理完毕: JNJ_data.csv\n",
      "处理完毕: PFE_data.csv\n",
      "处理完毕: BHP_data.csv\n",
      "处理完毕: KO_data.csv\n",
      "处理完毕: LIN_data.csv\n",
      "处理完毕: JPM_data.csv\n",
      "处理完毕: PG_data.csv\n",
      "处理完毕: T_data.csv\n",
      "处理完毕: GS_data.csv\n",
      "处理完毕: WMT_data.csv\n",
      "处理完毕: SPY_data.csv\n",
      "处理完毕: CAT_data.csv\n",
      "处理完毕: NVDA_data.csv\n",
      "处理完毕: GE_data.csv\n",
      "处理完毕: UNH_data.csv\n",
      "处理完毕: BAC_data.csv\n",
      "处理完毕: AAPL_data.csv\n",
      "处理完毕: WFC_data.csv\n"
     ]
    }
   ],
   "source": [
    "import os\n",
    "import pandas as pd\n",
    "\n",
    "# 设定存储路径\n",
    "directory = \"32_Pool\"\n",
    "\n",
    "# 处理每个CSV文件\n",
    "for ticker in os.listdir(directory):\n",
    "    if ticker.endswith(\"_data.csv\"):\n",
    "        file_path = os.path.join(directory, ticker)\n",
    "        \n",
    "        # 读取CSV文件\n",
    "        df = pd.read_csv(file_path)\n",
    "\n",
    "        # 删除第二行和第三行\n",
    "        df = df.drop([0, 1])\n",
    "\n",
    "        # 重置索引\n",
    "        df = df.reset_index(drop=True)\n",
    "\n",
    "        # 将第一行的第一列名称改为 'Date'\n",
    "        df.columns.values[0] = 'Date'\n",
    "\n",
    "        # **转换 Date 列为数值型（Unix 时间戳）**\n",
    "        df['Date'] = pd.to_datetime(df['Date']).astype(int) // 10**9  # 转换为秒级时间戳\n",
    "\n",
    "        # 保存修改后的文件\n",
    "        df.to_csv(file_path, index=False)\n",
    "\n",
    "        print(f\"处理完毕: {ticker}\")\n"
   ]
  },
  {
   "cell_type": "code",
   "execution_count": 3,
   "metadata": {},
   "outputs": [
    {
     "ename": "IndexError",
     "evalue": "single positional indexer is out-of-bounds",
     "output_type": "error",
     "traceback": [
      "\u001b[0;31m---------------------------------------------------------------------------\u001b[0m",
      "\u001b[0;31mIndexError\u001b[0m                                Traceback (most recent call last)",
      "Cell \u001b[0;32mIn[3], line 47\u001b[0m\n\u001b[1;32m     44\u001b[0m data \u001b[38;5;241m=\u001b[39m pd\u001b[38;5;241m.\u001b[39mread_csv(file_path, index_col\u001b[38;5;241m=\u001b[39m\u001b[38;5;124m'\u001b[39m\u001b[38;5;124mDate\u001b[39m\u001b[38;5;124m'\u001b[39m, parse_dates\u001b[38;5;241m=\u001b[39m\u001b[38;5;28;01mTrue\u001b[39;00m)\n\u001b[1;32m     46\u001b[0m \u001b[38;5;66;03m# 计算指标\u001b[39;00m\n\u001b[0;32m---> 47\u001b[0m return_100, sharpe, vol \u001b[38;5;241m=\u001b[39m \u001b[43mcalculate_metrics\u001b[49m\u001b[43m(\u001b[49m\u001b[43mdata\u001b[49m\u001b[43m,\u001b[49m\u001b[43m \u001b[49m\u001b[43mn\u001b[49m\u001b[38;5;241;43m=\u001b[39;49m\u001b[38;5;241;43m100\u001b[39;49m\u001b[43m)\u001b[49m\n\u001b[1;32m     49\u001b[0m \u001b[38;5;66;03m# 计算最终评分\u001b[39;00m\n\u001b[1;32m     50\u001b[0m score \u001b[38;5;241m=\u001b[39m \u001b[38;5;241m0.5\u001b[39m \u001b[38;5;241m*\u001b[39m return_100 \u001b[38;5;241m+\u001b[39m \u001b[38;5;241m0.3\u001b[39m \u001b[38;5;241m*\u001b[39m sharpe \u001b[38;5;241m-\u001b[39m \u001b[38;5;241m0.2\u001b[39m \u001b[38;5;241m*\u001b[39m vol\n",
      "Cell \u001b[0;32mIn[3], line 28\u001b[0m, in \u001b[0;36mcalculate_metrics\u001b[0;34m(data, n, risk_free_rate)\u001b[0m\n\u001b[1;32m     26\u001b[0m \u001b[38;5;66;03m# 计算收益率（过去 n 天的累计收益率）\u001b[39;00m\n\u001b[1;32m     27\u001b[0m data[\u001b[38;5;124m'\u001b[39m\u001b[38;5;124mReturn\u001b[39m\u001b[38;5;124m'\u001b[39m] \u001b[38;5;241m=\u001b[39m data[\u001b[38;5;124m'\u001b[39m\u001b[38;5;124mClose\u001b[39m\u001b[38;5;124m'\u001b[39m]\u001b[38;5;241m.\u001b[39mpct_change()\n\u001b[0;32m---> 28\u001b[0m rolling_return \u001b[38;5;241m=\u001b[39m \u001b[43mdata\u001b[49m\u001b[43m[\u001b[49m\u001b[38;5;124;43m'\u001b[39;49m\u001b[38;5;124;43mClose\u001b[39;49m\u001b[38;5;124;43m'\u001b[39;49m\u001b[43m]\u001b[49m\u001b[38;5;241;43m.\u001b[39;49m\u001b[43mpct_change\u001b[49m\u001b[43m(\u001b[49m\u001b[43mn\u001b[49m\u001b[43m)\u001b[49m\u001b[38;5;241;43m.\u001b[39;49m\u001b[43miloc\u001b[49m\u001b[43m[\u001b[49m\u001b[38;5;241;43m-\u001b[39;49m\u001b[38;5;241;43m1\u001b[39;49m\u001b[43m]\u001b[49m\n\u001b[1;32m     30\u001b[0m \u001b[38;5;66;03m# 计算波动率（标准差）\u001b[39;00m\n\u001b[1;32m     31\u001b[0m volatility \u001b[38;5;241m=\u001b[39m data[\u001b[38;5;124m'\u001b[39m\u001b[38;5;124mReturn\u001b[39m\u001b[38;5;124m'\u001b[39m]\u001b[38;5;241m.\u001b[39mrolling(n)\u001b[38;5;241m.\u001b[39mstd()\u001b[38;5;241m.\u001b[39miloc[\u001b[38;5;241m-\u001b[39m\u001b[38;5;241m1\u001b[39m]\n",
      "File \u001b[0;32m~/anaconda3/envs/rl_py/lib/python3.10/site-packages/pandas/core/indexing.py:1191\u001b[0m, in \u001b[0;36m_LocationIndexer.__getitem__\u001b[0;34m(self, key)\u001b[0m\n\u001b[1;32m   1189\u001b[0m maybe_callable \u001b[38;5;241m=\u001b[39m com\u001b[38;5;241m.\u001b[39mapply_if_callable(key, \u001b[38;5;28mself\u001b[39m\u001b[38;5;241m.\u001b[39mobj)\n\u001b[1;32m   1190\u001b[0m maybe_callable \u001b[38;5;241m=\u001b[39m \u001b[38;5;28mself\u001b[39m\u001b[38;5;241m.\u001b[39m_check_deprecated_callable_usage(key, maybe_callable)\n\u001b[0;32m-> 1191\u001b[0m \u001b[38;5;28;01mreturn\u001b[39;00m \u001b[38;5;28;43mself\u001b[39;49m\u001b[38;5;241;43m.\u001b[39;49m\u001b[43m_getitem_axis\u001b[49m\u001b[43m(\u001b[49m\u001b[43mmaybe_callable\u001b[49m\u001b[43m,\u001b[49m\u001b[43m \u001b[49m\u001b[43maxis\u001b[49m\u001b[38;5;241;43m=\u001b[39;49m\u001b[43maxis\u001b[49m\u001b[43m)\u001b[49m\n",
      "File \u001b[0;32m~/anaconda3/envs/rl_py/lib/python3.10/site-packages/pandas/core/indexing.py:1752\u001b[0m, in \u001b[0;36m_iLocIndexer._getitem_axis\u001b[0;34m(self, key, axis)\u001b[0m\n\u001b[1;32m   1749\u001b[0m     \u001b[38;5;28;01mraise\u001b[39;00m \u001b[38;5;167;01mTypeError\u001b[39;00m(\u001b[38;5;124m\"\u001b[39m\u001b[38;5;124mCannot index by location index with a non-integer key\u001b[39m\u001b[38;5;124m\"\u001b[39m)\n\u001b[1;32m   1751\u001b[0m \u001b[38;5;66;03m# validate the location\u001b[39;00m\n\u001b[0;32m-> 1752\u001b[0m \u001b[38;5;28;43mself\u001b[39;49m\u001b[38;5;241;43m.\u001b[39;49m\u001b[43m_validate_integer\u001b[49m\u001b[43m(\u001b[49m\u001b[43mkey\u001b[49m\u001b[43m,\u001b[49m\u001b[43m \u001b[49m\u001b[43maxis\u001b[49m\u001b[43m)\u001b[49m\n\u001b[1;32m   1754\u001b[0m \u001b[38;5;28;01mreturn\u001b[39;00m \u001b[38;5;28mself\u001b[39m\u001b[38;5;241m.\u001b[39mobj\u001b[38;5;241m.\u001b[39m_ixs(key, axis\u001b[38;5;241m=\u001b[39maxis)\n",
      "File \u001b[0;32m~/anaconda3/envs/rl_py/lib/python3.10/site-packages/pandas/core/indexing.py:1685\u001b[0m, in \u001b[0;36m_iLocIndexer._validate_integer\u001b[0;34m(self, key, axis)\u001b[0m\n\u001b[1;32m   1683\u001b[0m len_axis \u001b[38;5;241m=\u001b[39m \u001b[38;5;28mlen\u001b[39m(\u001b[38;5;28mself\u001b[39m\u001b[38;5;241m.\u001b[39mobj\u001b[38;5;241m.\u001b[39m_get_axis(axis))\n\u001b[1;32m   1684\u001b[0m \u001b[38;5;28;01mif\u001b[39;00m key \u001b[38;5;241m>\u001b[39m\u001b[38;5;241m=\u001b[39m len_axis \u001b[38;5;129;01mor\u001b[39;00m key \u001b[38;5;241m<\u001b[39m \u001b[38;5;241m-\u001b[39mlen_axis:\n\u001b[0;32m-> 1685\u001b[0m     \u001b[38;5;28;01mraise\u001b[39;00m \u001b[38;5;167;01mIndexError\u001b[39;00m(\u001b[38;5;124m\"\u001b[39m\u001b[38;5;124msingle positional indexer is out-of-bounds\u001b[39m\u001b[38;5;124m\"\u001b[39m)\n",
      "\u001b[0;31mIndexError\u001b[0m: single positional indexer is out-of-bounds"
     ]
    }
   ],
   "source": [
    "import os\n",
    "import pandas as pd\n",
    "import numpy as np\n",
    "\n",
    "# 设定存储路径\n",
    "directory = \"32_Pool\"\n",
    "tickers = [\"NVDA\", \"AAPL\", \"MSFT\", \"AMZN\", \"GOOG\", \"META\",\n",
    "           \"JPM\", \"GS\", \"BAC\", \"WFC\",\n",
    "           \"XOM\", \"CVX\", \"BP\",\n",
    "           \"TSLA\", \"KO\", \"MCD\", \"PG\", \"PEP\",\n",
    "           \"JNJ\", \"PFE\", \"UNH\",\n",
    "           \"BA\", \"CAT\", \"GE\",\n",
    "           \"NEE\", \"DUK\",\n",
    "           \"T\", \"VZ\",\n",
    "           \"HD\", \"WMT\",\n",
    "           \"LIN\", \"BHP\",\n",
    "           \"QQQ\", \"SPY\"]\n",
    "\n",
    "# 定义计算收益率、夏普率、波动率的函数\n",
    "def calculate_metrics(data, n=100, risk_free_rate=0.02):\n",
    "    \"\"\"\n",
    "    计算收益率、夏普率和波动率\n",
    "    - n: 收益计算周期（100 天）\n",
    "    - risk_free_rate: 无风险利率，假设 2%\n",
    "    \"\"\"\n",
    "    # 计算收益率（过去 n 天的累计收益率）\n",
    "    data['Return'] = data['Close'].pct_change()\n",
    "    rolling_return = data['Close'].pct_change(n).iloc[-1]\n",
    "    \n",
    "    # 计算波动率（标准差）\n",
    "    volatility = data['Return'].rolling(n).std().iloc[-1]\n",
    "    \n",
    "    # 计算夏普率（超额收益 / 波动率）\n",
    "    excess_return = data['Return'].mean() * 252 - risk_free_rate\n",
    "    sharpe_ratio = excess_return / (data['Return'].std() * np.sqrt(252)) if volatility != 0 else 0\n",
    "\n",
    "    return rolling_return, sharpe_ratio, volatility\n",
    "\n",
    "# 计算每只股票的评分\n",
    "scores = {}\n",
    "for ticker in tickers:\n",
    "    file_path = os.path.join(directory, f\"{ticker}_data.csv\")\n",
    "    if os.path.exists(file_path):\n",
    "        data = pd.read_csv(file_path, index_col='Date', parse_dates=True)\n",
    "        \n",
    "        # 计算指标\n",
    "        return_100, sharpe, vol = calculate_metrics(data, n=100)\n",
    "        \n",
    "        # 计算最终评分\n",
    "        score = 0.5 * return_100 + 0.3 * sharpe - 0.2 * vol\n",
    "        scores[ticker] = score\n",
    "\n",
    "# 选择得分最高的 10 只股票\n",
    "top_10_stocks = sorted(scores, key=scores.get, reverse=True)[:10]\n",
    "top_10_stocks\n"
   ]
  },
  {
   "cell_type": "code",
   "execution_count": null,
   "metadata": {},
   "outputs": [
    {
     "name": "stdout",
     "output_type": "stream",
     "text": [
      "所有数据已成功保存到 combined_10_stocks_data.csv\n"
     ]
    }
   ],
   "source": [
    "import pandas as pd\n",
    "import os\n",
    "\n",
    "# 设定存储路径\n",
    "directory = \"32_Pool\"\n",
    "output_file = \"combined_10_stocks_data.csv\"\n",
    "\n",
    "# 10 只股票\n",
    "tickers = ['TSLA', 'AAPL', 'GE', 'QQQ', 'NVDA', 'UNH', 'CAT', 'AMZN', 'NEE', 'HD']\n",
    "\n",
    "# 计算 RSI\n",
    "def compute_rsi(data, window):\n",
    "    delta = data.diff(1)\n",
    "    gain = (delta.where(delta > 0, 0)).rolling(window=window).mean()\n",
    "    loss = (-delta.where(delta < 0, 0)).rolling(window=window).mean()\n",
    "    rs = gain / loss\n",
    "    return 100 - (100 / (1 + rs))\n",
    "\n",
    "# 初始化 DataFrame\n",
    "combined_data = pd.DataFrame()\n",
    "\n",
    "# 遍历 10 只股票\n",
    "for ticker in tickers:\n",
    "    file_path = os.path.join(directory, f\"{ticker}_data.csv\")\n",
    "    \n",
    "    if not os.path.exists(file_path):\n",
    "        print(f\"文件 {file_path} 不存在，跳过 {ticker}\")\n",
    "        continue\n",
    "\n",
    "    # 加载数据\n",
    "    stock_data = pd.read_csv(file_path, index_col=\"Date\", parse_dates=True)\n",
    "\n",
    "    # 计算 RSI（7天 & 14天）\n",
    "    stock_data[f'{ticker}_RSI_7'] = compute_rsi(stock_data['Close'], 7)\n",
    "    stock_data[f'{ticker}_RSI_14'] = compute_rsi(stock_data['Close'], 14)\n",
    "\n",
    "    # 计算 MACD\n",
    "    short_ema = stock_data['Close'].ewm(span=12, adjust=False).mean()\n",
    "    long_ema = stock_data['Close'].ewm(span=26, adjust=False).mean()\n",
    "    stock_data[f'{ticker}_MACD'] = short_ema - long_ema\n",
    "    stock_data[f'{ticker}_MACD_Signal'] = stock_data[f'{ticker}_MACD'].ewm(span=9, adjust=False).mean()\n",
    "\n",
    "    # 选取所需列，并重命名\n",
    "    stock_data = stock_data.rename(columns={\n",
    "        'Open': f'{ticker}_Open',\n",
    "        'High': f'{ticker}_High',\n",
    "        'Low': f'{ticker}_Low',\n",
    "        'Close': f'{ticker}_Close',\n",
    "        'Volume': f'{ticker}_Volume'\n",
    "    })\n",
    "    \n",
    "    selected_columns = [f'{ticker}_Open', f'{ticker}_High', f'{ticker}_Low', f'{ticker}_Close', f'{ticker}_Volume', \n",
    "                        f'{ticker}_RSI_7', f'{ticker}_RSI_14', f'{ticker}_MACD', f'{ticker}_MACD_Signal']\n",
    "\n",
    "    # 合并数据\n",
    "    if combined_data.empty:\n",
    "        combined_data = stock_data[selected_columns]\n",
    "    else:\n",
    "        combined_data = pd.concat([combined_data, stock_data[selected_columns]], axis=1)\n",
    "\n",
    "# 去掉 NaN 行\n",
    "combined_data.dropna(inplace=True)\n",
    "\n",
    "# 保存到 CSV\n",
    "combined_data.to_csv(output_file)\n",
    "print(f\"所有数据已成功保存到 {output_file}\")\n"
   ]
  },
  {
   "cell_type": "code",
   "execution_count": null,
   "metadata": {},
   "outputs": [
    {
     "data": {
      "text/html": [
       "<div>\n",
       "<style scoped>\n",
       "    .dataframe tbody tr th:only-of-type {\n",
       "        vertical-align: middle;\n",
       "    }\n",
       "\n",
       "    .dataframe tbody tr th {\n",
       "        vertical-align: top;\n",
       "    }\n",
       "\n",
       "    .dataframe thead th {\n",
       "        text-align: right;\n",
       "    }\n",
       "</style>\n",
       "<table border=\"1\" class=\"dataframe\">\n",
       "  <thead>\n",
       "    <tr style=\"text-align: right;\">\n",
       "      <th></th>\n",
       "      <th>Date</th>\n",
       "      <th>TSLA_Open</th>\n",
       "      <th>TSLA_High</th>\n",
       "      <th>TSLA_Low</th>\n",
       "      <th>TSLA_Close</th>\n",
       "      <th>TSLA_Volume</th>\n",
       "      <th>TSLA_RSI_7</th>\n",
       "      <th>TSLA_RSI_14</th>\n",
       "      <th>TSLA_MACD</th>\n",
       "      <th>TSLA_MACD_Signal</th>\n",
       "      <th>...</th>\n",
       "      <th>NEE_MACD_Signal</th>\n",
       "      <th>HD_Open</th>\n",
       "      <th>HD_High</th>\n",
       "      <th>HD_Low</th>\n",
       "      <th>HD_Close</th>\n",
       "      <th>HD_Volume</th>\n",
       "      <th>HD_RSI_7</th>\n",
       "      <th>HD_RSI_14</th>\n",
       "      <th>HD_MACD</th>\n",
       "      <th>HD_MACD_Signal</th>\n",
       "    </tr>\n",
       "  </thead>\n",
       "  <tbody>\n",
       "    <tr>\n",
       "      <th>0</th>\n",
       "      <td>2010-07-19</td>\n",
       "      <td>1.424667</td>\n",
       "      <td>1.483333</td>\n",
       "      <td>1.394667</td>\n",
       "      <td>1.460667</td>\n",
       "      <td>37297500.0</td>\n",
       "      <td>92.220196</td>\n",
       "      <td>43.408794</td>\n",
       "      <td>-0.064685</td>\n",
       "      <td>-0.083391</td>\n",
       "      <td>...</td>\n",
       "      <td>0.059857</td>\n",
       "      <td>19.278971</td>\n",
       "      <td>19.349954</td>\n",
       "      <td>19.058924</td>\n",
       "      <td>19.215086</td>\n",
       "      <td>17061600</td>\n",
       "      <td>25.229354</td>\n",
       "      <td>25.954236</td>\n",
       "      <td>-0.802271</td>\n",
       "      <td>-0.824908</td>\n",
       "    </tr>\n",
       "    <tr>\n",
       "      <th>1</th>\n",
       "      <td>2010-07-20</td>\n",
       "      <td>1.456667</td>\n",
       "      <td>1.456667</td>\n",
       "      <td>1.336667</td>\n",
       "      <td>1.353333</td>\n",
       "      <td>27379500.0</td>\n",
       "      <td>71.260949</td>\n",
       "      <td>39.206237</td>\n",
       "      <td>-0.058209</td>\n",
       "      <td>-0.078355</td>\n",
       "      <td>...</td>\n",
       "      <td>0.071355</td>\n",
       "      <td>18.987938</td>\n",
       "      <td>19.896520</td>\n",
       "      <td>18.895661</td>\n",
       "      <td>19.825537</td>\n",
       "      <td>23279400</td>\n",
       "      <td>44.368531</td>\n",
       "      <td>43.190582</td>\n",
       "      <td>-0.756203</td>\n",
       "      <td>-0.811167</td>\n",
       "    </tr>\n",
       "    <tr>\n",
       "      <th>2</th>\n",
       "      <td>2010-07-21</td>\n",
       "      <td>1.377333</td>\n",
       "      <td>1.393333</td>\n",
       "      <td>1.300000</td>\n",
       "      <td>1.348000</td>\n",
       "      <td>18787500.0</td>\n",
       "      <td>74.198423</td>\n",
       "      <td>39.159154</td>\n",
       "      <td>-0.052897</td>\n",
       "      <td>-0.073263</td>\n",
       "      <td>...</td>\n",
       "      <td>0.079636</td>\n",
       "      <td>19.719068</td>\n",
       "      <td>19.882328</td>\n",
       "      <td>19.413841</td>\n",
       "      <td>19.499020</td>\n",
       "      <td>17161300</td>\n",
       "      <td>37.425261</td>\n",
       "      <td>44.047571</td>\n",
       "      <td>-0.737539</td>\n",
       "      <td>-0.796441</td>\n",
       "    </tr>\n",
       "    <tr>\n",
       "      <th>3</th>\n",
       "      <td>2010-07-22</td>\n",
       "      <td>1.366667</td>\n",
       "      <td>1.416667</td>\n",
       "      <td>1.358000</td>\n",
       "      <td>1.400000</td>\n",
       "      <td>14367000.0</td>\n",
       "      <td>72.916658</td>\n",
       "      <td>46.915168</td>\n",
       "      <td>-0.043984</td>\n",
       "      <td>-0.067407</td>\n",
       "      <td>...</td>\n",
       "      <td>0.087182</td>\n",
       "      <td>19.669372</td>\n",
       "      <td>20.208843</td>\n",
       "      <td>19.669372</td>\n",
       "      <td>20.031385</td>\n",
       "      <td>26142700</td>\n",
       "      <td>44.414898</td>\n",
       "      <td>52.659495</td>\n",
       "      <td>-0.672044</td>\n",
       "      <td>-0.771562</td>\n",
       "    </tr>\n",
       "    <tr>\n",
       "      <th>4</th>\n",
       "      <td>2010-07-23</td>\n",
       "      <td>1.412667</td>\n",
       "      <td>1.437333</td>\n",
       "      <td>1.404000</td>\n",
       "      <td>1.419333</td>\n",
       "      <td>9804000.0</td>\n",
       "      <td>65.010249</td>\n",
       "      <td>57.983173</td>\n",
       "      <td>-0.034957</td>\n",
       "      <td>-0.060917</td>\n",
       "      <td>...</td>\n",
       "      <td>0.093594</td>\n",
       "      <td>19.974605</td>\n",
       "      <td>20.130768</td>\n",
       "      <td>19.804246</td>\n",
       "      <td>20.052687</td>\n",
       "      <td>18979200</td>\n",
       "      <td>49.562826</td>\n",
       "      <td>54.446462</td>\n",
       "      <td>-0.611372</td>\n",
       "      <td>-0.739524</td>\n",
       "    </tr>\n",
       "  </tbody>\n",
       "</table>\n",
       "<p>5 rows × 91 columns</p>\n",
       "</div>"
      ],
      "text/plain": [
       "         Date  TSLA_Open  TSLA_High  TSLA_Low  TSLA_Close  TSLA_Volume  \\\n",
       "0  2010-07-19   1.424667   1.483333  1.394667    1.460667   37297500.0   \n",
       "1  2010-07-20   1.456667   1.456667  1.336667    1.353333   27379500.0   \n",
       "2  2010-07-21   1.377333   1.393333  1.300000    1.348000   18787500.0   \n",
       "3  2010-07-22   1.366667   1.416667  1.358000    1.400000   14367000.0   \n",
       "4  2010-07-23   1.412667   1.437333  1.404000    1.419333    9804000.0   \n",
       "\n",
       "   TSLA_RSI_7  TSLA_RSI_14  TSLA_MACD  TSLA_MACD_Signal  ...  NEE_MACD_Signal  \\\n",
       "0   92.220196    43.408794  -0.064685         -0.083391  ...         0.059857   \n",
       "1   71.260949    39.206237  -0.058209         -0.078355  ...         0.071355   \n",
       "2   74.198423    39.159154  -0.052897         -0.073263  ...         0.079636   \n",
       "3   72.916658    46.915168  -0.043984         -0.067407  ...         0.087182   \n",
       "4   65.010249    57.983173  -0.034957         -0.060917  ...         0.093594   \n",
       "\n",
       "     HD_Open    HD_High     HD_Low   HD_Close  HD_Volume   HD_RSI_7  \\\n",
       "0  19.278971  19.349954  19.058924  19.215086   17061600  25.229354   \n",
       "1  18.987938  19.896520  18.895661  19.825537   23279400  44.368531   \n",
       "2  19.719068  19.882328  19.413841  19.499020   17161300  37.425261   \n",
       "3  19.669372  20.208843  19.669372  20.031385   26142700  44.414898   \n",
       "4  19.974605  20.130768  19.804246  20.052687   18979200  49.562826   \n",
       "\n",
       "   HD_RSI_14   HD_MACD  HD_MACD_Signal  \n",
       "0  25.954236 -0.802271       -0.824908  \n",
       "1  43.190582 -0.756203       -0.811167  \n",
       "2  44.047571 -0.737539       -0.796441  \n",
       "3  52.659495 -0.672044       -0.771562  \n",
       "4  54.446462 -0.611372       -0.739524  \n",
       "\n",
       "[5 rows x 91 columns]"
      ]
     },
     "execution_count": 7,
     "metadata": {},
     "output_type": "execute_result"
    }
   ],
   "source": [
    "file_path = \"/home/jesse/Projects/RL_Testing/LSTM_Attention/combined_10_stocks_data.csv\"\n",
    "df = pd.read_csv(file_path)\n",
    "\n",
    "df.head()"
   ]
  },
  {
   "cell_type": "code",
   "execution_count": null,
   "metadata": {},
   "outputs": [
    {
     "data": {
      "text/plain": [
       "False"
      ]
     },
     "execution_count": 8,
     "metadata": {},
     "output_type": "execute_result"
    }
   ],
   "source": [
    "df.isna().any().any()\n"
   ]
  }
 ],
 "metadata": {
  "kernelspec": {
   "display_name": "rl_py",
   "language": "python",
   "name": "python3"
  },
  "language_info": {
   "codemirror_mode": {
    "name": "ipython",
    "version": 3
   },
   "file_extension": ".py",
   "mimetype": "text/x-python",
   "name": "python",
   "nbconvert_exporter": "python",
   "pygments_lexer": "ipython3",
   "version": "3.10.16"
  }
 },
 "nbformat": 4,
 "nbformat_minor": 2
}
