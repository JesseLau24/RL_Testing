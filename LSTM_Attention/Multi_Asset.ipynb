{
 "cells": [
  {
   "cell_type": "code",
   "execution_count": 9,
   "metadata": {},
   "outputs": [
    {
     "name": "stderr",
     "output_type": "stream",
     "text": [
      "[*********************100%***********************]  1 of 1 completed\n",
      "[*********************100%***********************]  1 of 1 completed\n",
      "[*********************100%***********************]  1 of 1 completed"
     ]
    },
    {
     "name": "stdout",
     "output_type": "stream",
     "text": [
      "正在拉取数据: NVDA\n",
      "NVDA 数据已保存\n",
      "正在拉取数据: AAPL\n",
      "AAPL 数据已保存\n",
      "正在拉取数据: MSFT\n"
     ]
    },
    {
     "name": "stderr",
     "output_type": "stream",
     "text": [
      "\n",
      "[*********************100%***********************]  1 of 1 completed\n",
      "[*********************100%***********************]  1 of 1 completed\n",
      "[*********************100%***********************]  1 of 1 completed\n",
      "[*********************100%***********************]  1 of 1 completed\n"
     ]
    },
    {
     "name": "stdout",
     "output_type": "stream",
     "text": [
      "MSFT 数据已保存\n",
      "正在拉取数据: AMZN\n",
      "AMZN 数据已保存\n",
      "正在拉取数据: GOOG\n",
      "GOOG 数据已保存\n",
      "正在拉取数据: META\n",
      "META 数据已保存\n",
      "正在拉取数据: JPM\n",
      "JPM 数据已保存\n",
      "正在拉取数据: GS\n"
     ]
    },
    {
     "name": "stderr",
     "output_type": "stream",
     "text": [
      "[*********************100%***********************]  1 of 1 completed\n",
      "[*********************100%***********************]  1 of 1 completed\n",
      "[*********************100%***********************]  1 of 1 completed\n",
      "[*********************100%***********************]  1 of 1 completed\n",
      "[*********************100%***********************]  1 of 1 completed\n"
     ]
    },
    {
     "name": "stdout",
     "output_type": "stream",
     "text": [
      "GS 数据已保存\n",
      "正在拉取数据: BAC\n",
      "BAC 数据已保存\n",
      "正在拉取数据: WFC\n",
      "WFC 数据已保存\n",
      "正在拉取数据: XOM\n",
      "XOM 数据已保存\n",
      "正在拉取数据: CVX\n",
      "CVX 数据已保存\n",
      "正在拉取数据: BP\n"
     ]
    },
    {
     "name": "stderr",
     "output_type": "stream",
     "text": [
      "[*********************100%***********************]  1 of 1 completed\n",
      "[*********************100%***********************]  1 of 1 completed\n",
      "[*********************100%***********************]  1 of 1 completed\n",
      "[*********************100%***********************]  1 of 1 completed\n",
      "[*********************100%***********************]  1 of 1 completed\n"
     ]
    },
    {
     "name": "stdout",
     "output_type": "stream",
     "text": [
      "BP 数据已保存\n",
      "正在拉取数据: TSLA\n",
      "TSLA 数据已保存\n",
      "正在拉取数据: KO\n",
      "KO 数据已保存\n",
      "正在拉取数据: MCD\n",
      "MCD 数据已保存\n",
      "正在拉取数据: PG\n",
      "PG 数据已保存\n",
      "正在拉取数据: PEP\n"
     ]
    },
    {
     "name": "stderr",
     "output_type": "stream",
     "text": [
      "[*********************100%***********************]  1 of 1 completed\n",
      "[*********************100%***********************]  1 of 1 completed\n",
      "[*********************100%***********************]  1 of 1 completed\n",
      "[*********************100%***********************]  1 of 1 completed\n",
      "[*********************100%***********************]  1 of 1 completed"
     ]
    },
    {
     "name": "stdout",
     "output_type": "stream",
     "text": [
      "PEP 数据已保存\n",
      "正在拉取数据: JNJ\n",
      "JNJ 数据已保存\n",
      "正在拉取数据: PFE\n",
      "PFE 数据已保存\n",
      "正在拉取数据: UNH\n",
      "UNH 数据已保存\n",
      "正在拉取数据: BA\n"
     ]
    },
    {
     "name": "stderr",
     "output_type": "stream",
     "text": [
      "\n",
      "[*********************100%***********************]  1 of 1 completed\n",
      "[*********************100%***********************]  1 of 1 completed\n",
      "[*********************100%***********************]  1 of 1 completed\n"
     ]
    },
    {
     "name": "stdout",
     "output_type": "stream",
     "text": [
      "BA 数据已保存\n",
      "正在拉取数据: CAT\n",
      "CAT 数据已保存\n",
      "正在拉取数据: GE\n",
      "GE 数据已保存\n",
      "正在拉取数据: NEE\n",
      "NEE 数据已保存\n",
      "正在拉取数据: DUK\n"
     ]
    },
    {
     "name": "stderr",
     "output_type": "stream",
     "text": [
      "[*********************100%***********************]  1 of 1 completed\n",
      "[*********************100%***********************]  1 of 1 completed\n",
      "[*********************100%***********************]  1 of 1 completed\n",
      "[*********************100%***********************]  1 of 1 completed\n",
      "[*********************100%***********************]  1 of 1 completed"
     ]
    },
    {
     "name": "stdout",
     "output_type": "stream",
     "text": [
      "DUK 数据已保存\n",
      "正在拉取数据: T\n",
      "T 数据已保存\n",
      "正在拉取数据: VZ\n",
      "VZ 数据已保存\n",
      "正在拉取数据: HD\n",
      "HD 数据已保存\n",
      "正在拉取数据: WMT\n"
     ]
    },
    {
     "name": "stderr",
     "output_type": "stream",
     "text": [
      "\n",
      "[*********************100%***********************]  1 of 1 completed\n",
      "[*********************100%***********************]  1 of 1 completed\n",
      "[*********************100%***********************]  1 of 1 completed\n",
      "[*********************100%***********************]  1 of 1 completed\n"
     ]
    },
    {
     "name": "stdout",
     "output_type": "stream",
     "text": [
      "WMT 数据已保存\n",
      "正在拉取数据: LIN\n",
      "LIN 数据已保存\n",
      "正在拉取数据: BHP\n",
      "BHP 数据已保存\n",
      "正在拉取数据: QQQ\n",
      "QQQ 数据已保存\n",
      "正在拉取数据: SPY\n",
      "SPY 数据已保存\n",
      "所有股票数据已成功保存。\n"
     ]
    }
   ],
   "source": [
    "import yfinance as yf\n",
    "import os\n",
    "\n",
    "# 设定存储路径\n",
    "directory = \"32_Pool\"\n",
    "if not os.path.exists(directory):\n",
    "    os.makedirs(directory)\n",
    "\n",
    "# 32只股票+ETF的ticker列表\n",
    "tickers = [\"NVDA\", \"AAPL\", \"MSFT\", \"AMZN\", \"GOOG\", \"META\",\n",
    "           \"JPM\", \"GS\", \"BAC\", \"WFC\",\n",
    "           \"XOM\", \"CVX\", \"BP\",\n",
    "           \"TSLA\", \"KO\", \"MCD\", \"PG\", \"PEP\",\n",
    "           \"JNJ\", \"PFE\", \"UNH\",\n",
    "           \"BA\", \"CAT\", \"GE\",\n",
    "           \"NEE\", \"DUK\",\n",
    "           \"T\", \"VZ\",\n",
    "           \"HD\", \"WMT\",\n",
    "           \"LIN\", \"BHP\",\n",
    "           \"QQQ\", \"SPY\"]\n",
    "\n",
    "# 拉取股票数据并保存为CSV\n",
    "for ticker in tickers:\n",
    "    print(f\"正在拉取数据: {ticker}\")\n",
    "    stock_data = yf.download(ticker, start=\"2010-01-01\", end=\"2020-12-31\")\n",
    "    \n",
    "    # 只保留需要的列（Open, High, Low, Close, Volume）\n",
    "    stock_data = stock_data[['Open', 'High', 'Low', 'Close', 'Volume']]\n",
    "    \n",
    "    # 将数据保存为CSV\n",
    "    stock_data.to_csv(f\"{directory}/{ticker}_data.csv\")\n",
    "    print(f\"{ticker} 数据已保存\")\n",
    "\n",
    "print(\"所有股票数据已成功保存。\")\n"
   ]
  },
  {
   "cell_type": "code",
   "execution_count": 10,
   "metadata": {},
   "outputs": [
    {
     "name": "stdout",
     "output_type": "stream",
     "text": [
      "处理完毕: BP_data.csv\n",
      "处理完毕: MSFT_data.csv\n",
      "处理完毕: CVX_data.csv\n",
      "处理完毕: PEP_data.csv\n",
      "处理完毕: VZ_data.csv\n",
      "处理完毕: MCD_data.csv\n",
      "处理完毕: HD_data.csv\n",
      "处理完毕: XOM_data.csv\n",
      "处理完毕: BA_data.csv\n",
      "处理完毕: TSLA_data.csv\n",
      "处理完毕: QQQ_data.csv\n",
      "处理完毕: NEE_data.csv\n",
      "处理完毕: DUK_data.csv\n",
      "处理完毕: META_data.csv\n",
      "处理完毕: AMZN_data.csv\n",
      "处理完毕: GOOG_data.csv\n",
      "处理完毕: JNJ_data.csv\n",
      "处理完毕: PFE_data.csv\n",
      "处理完毕: BHP_data.csv\n",
      "处理完毕: KO_data.csv\n",
      "处理完毕: LIN_data.csv\n",
      "处理完毕: JPM_data.csv\n",
      "处理完毕: PG_data.csv\n",
      "处理完毕: T_data.csv\n",
      "处理完毕: GS_data.csv\n",
      "处理完毕: WMT_data.csv\n",
      "处理完毕: SPY_data.csv\n",
      "处理完毕: CAT_data.csv\n",
      "处理完毕: NVDA_data.csv\n",
      "处理完毕: GE_data.csv\n",
      "处理完毕: UNH_data.csv\n",
      "处理完毕: BAC_data.csv\n",
      "处理完毕: AAPL_data.csv\n",
      "处理完毕: WFC_data.csv\n"
     ]
    }
   ],
   "source": [
    "# 设定存储路径\n",
    "directory = \"32_Pool\"\n",
    "\n",
    "# 处理每个CSV文件\n",
    "for ticker in os.listdir(directory):\n",
    "    if ticker.endswith(\"_data.csv\"):\n",
    "        file_path = os.path.join(directory, ticker)\n",
    "        \n",
    "        # 读取CSV文件\n",
    "        df = pd.read_csv(file_path)\n",
    "\n",
    "        # 删除第二行和第三行\n",
    "        df = df.drop([0, 1])\n",
    "\n",
    "        # 重置索引\n",
    "        df = df.reset_index(drop=True)\n",
    "\n",
    "        # 将第一行的第一列名称改为 'Date'\n",
    "        df.columns.values[0] = 'Date'\n",
    "\n",
    "        # 保存修改后的文件\n",
    "        df.to_csv(file_path, index=False)\n",
    "\n",
    "        print(f\"处理完毕: {ticker}\")\n"
   ]
  },
  {
   "cell_type": "code",
   "execution_count": 14,
   "metadata": {},
   "outputs": [
    {
     "name": "stdout",
     "output_type": "stream",
     "text": [
      "BP_data.csv 的技术指标已计算并保存。\n",
      "MSFT_data.csv 的技术指标已计算并保存。\n",
      "CVX_data.csv 的技术指标已计算并保存。\n",
      "PEP_data.csv 的技术指标已计算并保存。\n",
      "VZ_data.csv 的技术指标已计算并保存。\n",
      "MCD_data.csv 的技术指标已计算并保存。\n",
      "HD_data.csv 的技术指标已计算并保存。\n",
      "XOM_data.csv 的技术指标已计算并保存。\n",
      "BA_data.csv 的技术指标已计算并保存。\n",
      "TSLA_data.csv 的技术指标已计算并保存。\n",
      "QQQ_data.csv 的技术指标已计算并保存。\n",
      "NEE_data.csv 的技术指标已计算并保存。\n",
      "DUK_data.csv 的技术指标已计算并保存。\n",
      "META_data.csv 的技术指标已计算并保存。\n",
      "AMZN_data.csv 的技术指标已计算并保存。\n",
      "GOOG_data.csv 的技术指标已计算并保存。\n",
      "JNJ_data.csv 的技术指标已计算并保存。\n",
      "PFE_data.csv 的技术指标已计算并保存。\n",
      "BHP_data.csv 的技术指标已计算并保存。\n",
      "KO_data.csv 的技术指标已计算并保存。\n",
      "LIN_data.csv 的技术指标已计算并保存。\n",
      "JPM_data.csv 的技术指标已计算并保存。\n",
      "PG_data.csv 的技术指标已计算并保存。\n",
      "T_data.csv 的技术指标已计算并保存。\n",
      "GS_data.csv 的技术指标已计算并保存。\n",
      "WMT_data.csv 的技术指标已计算并保存。\n",
      "SPY_data.csv 的技术指标已计算并保存。\n",
      "CAT_data.csv 的技术指标已计算并保存。\n",
      "NVDA_data.csv 的技术指标已计算并保存。\n",
      "GE_data.csv 的技术指标已计算并保存。\n",
      "UNH_data.csv 的技术指标已计算并保存。\n",
      "BAC_data.csv 的技术指标已计算并保存。\n",
      "AAPL_data.csv 的技术指标已计算并保存。\n",
      "WFC_data.csv 的技术指标已计算并保存。\n",
      "所有文件的技术指标计算完成。\n"
     ]
    }
   ],
   "source": [
    "import pandas as pd\n",
    "import os\n",
    "\n",
    "# 设定存储路径\n",
    "directory = \"32_Pool\"\n",
    "\n",
    "# 获取目录下所有CSV文件\n",
    "csv_files = [f for f in os.listdir(directory) if f.endswith('_data.csv')]\n",
    "\n",
    "# 遍历每个CSV文件，加载数据并计算技术指标\n",
    "for file in csv_files:\n",
    "    # 加载CSV文件\n",
    "    file_path = os.path.join(directory, file)\n",
    "    stock_data = pd.read_csv(file_path, index_col=\"Date\", parse_dates=True)\n",
    "\n",
    "    # 计算 RSI（7天 & 14天）\n",
    "    def compute_rsi(data, window):\n",
    "        delta = data.diff(1)\n",
    "        gain = (delta.where(delta > 0, 0)).rolling(window=window).mean()\n",
    "        loss = (-delta.where(delta < 0, 0)).rolling(window=window).mean()\n",
    "        rs = gain / loss\n",
    "        return 100 - (100 / (1 + rs))\n",
    "\n",
    "    stock_data['RSI_7'] = compute_rsi(stock_data['Close'], 7)\n",
    "    stock_data['RSI_14'] = compute_rsi(stock_data['Close'], 14)\n",
    "\n",
    "    # 计算 MACD\n",
    "    short_ema = stock_data['Close'].ewm(span=12, adjust=False).mean()\n",
    "    long_ema = stock_data['Close'].ewm(span=26, adjust=False).mean()\n",
    "    stock_data['MACD'] = short_ema - long_ema\n",
    "    stock_data['Signal_Line'] = stock_data['MACD'].ewm(span=9, adjust=False).mean()\n",
    "\n",
    "    # 计算布林带（Bollinger Bands, BB）\n",
    "    rolling_mean = stock_data['Close'].rolling(window=20).mean()\n",
    "    rolling_std = stock_data['Close'].rolling(window=20).std()\n",
    "    stock_data['BB_upper'] = rolling_mean + (rolling_std * 2)\n",
    "    stock_data['BB_lower'] = rolling_mean - (rolling_std * 2)\n",
    "\n",
    "    # 计算 ATR（平均真实波动幅度）\n",
    "    stock_data['High-Low'] = stock_data['High'] - stock_data['Low']\n",
    "    stock_data['High-Close'] = (stock_data['High'] - stock_data['Close'].shift(1)).abs()\n",
    "    stock_data['Low-Close'] = (stock_data['Low'] - stock_data['Close'].shift(1)).abs()\n",
    "    stock_data['True_Range'] = stock_data[['High-Low', 'High-Close', 'Low-Close']].max(axis=1)\n",
    "    stock_data['ATR_14'] = stock_data['True_Range'].rolling(window=14).mean()\n",
    "\n",
    "    # 计算威廉指标（Williams %R）\n",
    "    low_min = stock_data['Low'].rolling(window=14).min()\n",
    "    high_max = stock_data['High'].rolling(window=14).max()\n",
    "    stock_data['Williams_%R'] = (high_max - stock_data['Close']) / (high_max - low_min) * -100\n",
    "\n",
    "    # 去掉NaN值\n",
    "    stock_data = stock_data.dropna()\n",
    "\n",
    "    # 保存回CSV\n",
    "    stock_data.to_csv(file_path)\n",
    "    print(f\"{file} 的技术指标已计算并保存。\")\n",
    "\n",
    "print(\"所有文件的技术指标计算完成。\")\n"
   ]
  }
 ],
 "metadata": {
  "kernelspec": {
   "display_name": "rl_py",
   "language": "python",
   "name": "python3"
  },
  "language_info": {
   "codemirror_mode": {
    "name": "ipython",
    "version": 3
   },
   "file_extension": ".py",
   "mimetype": "text/x-python",
   "name": "python",
   "nbconvert_exporter": "python",
   "pygments_lexer": "ipython3",
   "version": "3.10.16"
  }
 },
 "nbformat": 4,
 "nbformat_minor": 2
}
